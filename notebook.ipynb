{
  "cells": [
    {
      "cell_type": "code",
      "source": [
        "def read_input(fn):\n",
        "    with open(fn) as f:\n",
        "        lines = f.read().splitlines()\n",
        "    return lines"
      ],
      "outputs": [],
      "execution_count": 1,
      "metadata": {
        "collapsed": false,
        "outputHidden": false,
        "inputHidden": false
      }
    },
    {
      "cell_type": "markdown",
      "source": [
        "# Day 1"
      ],
      "metadata": {}
    },
    {
      "cell_type": "code",
      "source": [
        "# a\n",
        "s = 0\n",
        "for n in read_input('input1.txt'):\n",
        "    s += int(n)\n",
        "print(s)"
      ],
      "outputs": [
        {
          "output_type": "stream",
          "name": "stdout",
          "text": [
            "439\n"
          ]
        }
      ],
      "execution_count": 2,
      "metadata": {}
    },
    {
      "cell_type": "code",
      "source": [
        "#b \n",
        "s = 0\n",
        "found = {0: 0}\n",
        "doit = True\n",
        "while doit:\n",
        "    for n in read_input('input1.txt'):\n",
        "        s += int(n)\n",
        "        if s in found:\n",
        "            print('yeah', s)\n",
        "            doit = False\n",
        "            break\n",
        "        found[s] = 0"
      ],
      "outputs": [
        {
          "output_type": "stream",
          "name": "stdout",
          "text": [
            "('yeah', 124645)\n"
          ]
        }
      ],
      "execution_count": 3,
      "metadata": {
        "collapsed": false,
        "outputHidden": false,
        "inputHidden": false
      }
    },
    {
      "cell_type": "markdown",
      "source": [
        "# Day 2"
      ],
      "metadata": {
        "collapsed": false,
        "outputHidden": false,
        "inputHidden": false
      }
    },
    {
      "cell_type": "code",
      "source": [
        "indices = read_input('input2.txt')\n",
        "\n",
        "# a\n",
        "def d2_twothree(s):\n",
        "    d = {}\n",
        "    for l in s:\n",
        "        try:\n",
        "            d[l] += 1\n",
        "        except:\n",
        "            d[l] = 1\n",
        "    return ( 2 in d.values(), 3 in d.values() )\n",
        "\n",
        "def d2_checksum(indices):\n",
        "    twos = 0\n",
        "    threes = 0\n",
        "    for line in indices:\n",
        "        tw, th = d2_twothree(line)\n",
        "        if tw:\n",
        "            twos += 1\n",
        "        if th:\n",
        "            threes += 1\n",
        "    return twos*threes\n",
        "\nd2_checksum(indices)"
      ],
      "outputs": [
        {
          "output_type": "execute_result",
          "execution_count": 4,
          "data": {
            "text/plain": [
              "7936"
            ]
          },
          "metadata": {}
        }
      ],
      "execution_count": 4,
      "metadata": {
        "collapsed": false,
        "outputHidden": false,
        "inputHidden": false
      }
    },
    {
      "cell_type": "code",
      "source": [
        "# b\n",
        "def diff(s1, s2):\n",
        "    assert(len(s1) == len(s2))\n",
        "    diff  = 0\n",
        "    at = 0\n",
        "    for i in range(len(s1)):\n",
        "        if (s1[i] != s2[i]):\n",
        "            diff += 1\n",
        "            at = i\n",
        "\n",
        "    return (diff, at)\n",
        "\n",
        "for i, s1 in enumerate(indices):\n",
        "    for j, s2 in enumerate(indices[i+1:]):\n",
        "        d, at = diff(s1, s2)\n",
        "        if d == 1:\n",
        "            print (s1[0:at]+s1[at+1:], s1, s2, at)"
      ],
      "outputs": [
        {
          "output_type": "stream",
          "name": "stdout",
          "text": [
            "('lnfqdscwjyteorambzuchrgpx', 'lnfqdscwjyteorambzuchirgpx', 'lnfqdscwjyteorambzuchzrgpx', 21)\n"
          ]
        }
      ],
      "execution_count": 5,
      "metadata": {
        "collapsed": false,
        "outputHidden": false,
        "inputHidden": false
      }
    },
    {
      "cell_type": "markdown",
      "source": [
        "# Day 3"
      ],
      "metadata": {
        "collapsed": false,
        "outputHidden": false,
        "inputHidden": false
      }
    },
    {
      "cell_type": "code",
      "source": [
        "claims = read_input('input2b.txt')\n",
        "field = [[0] * 1000 for _ in range(1000)]"
      ],
      "outputs": [],
      "execution_count": 6,
      "metadata": {
        "collapsed": false,
        "outputHidden": false,
        "inputHidden": false
      }
    },
    {
      "cell_type": "code",
      "source": [
        "# a\n",
        "def draw(x, y, w, h, field):\n",
        "    for i in range(y, y+h):\n",
        "        for j in range(x, x+w):\n",
        "            field[i][j] += 1\n",
        "\n",
        "for c in claims:\n",
        "    a = c.split('@ ')[1]\n",
        "    b = a.split(': ')\n",
        "    x, y = map(int, b[0].split(','))\n",
        "    w, h = map(int, b[1].split('x'))\n",
        "    draw(x, y, w, h, field)\n",
        "\n",
        "t = 0\n",
        "for row in range(1000):\n",
        "    for column in range(1000):\n",
        "        if field[row][column] > 1:\n",
        "            t += 1\n",
        "print(t)"
      ],
      "outputs": [
        {
          "output_type": "stream",
          "name": "stdout",
          "text": [
            "105047\n"
          ]
        }
      ],
      "execution_count": 7,
      "metadata": {
        "collapsed": false,
        "outputHidden": false,
        "inputHidden": false
      }
    },
    {
      "cell_type": "code",
      "source": [
        "# b\n",
        "def check(x, y, w, h, field):\n",
        "    all1 = True\n",
        "    for i in range(y, y+h):\n",
        "        for j in range(x, x+w):\n",
        "            all1 = all1 and (field[i][j] == 1)\n",
        "    return all1\n",
        "\n",
        "for i, c in enumerate(claims):\n",
        "    a = c.split('@ ')[1]\n",
        "    b = a.split(': ')\n",
        "    x, y = map(int, b[0].split(','))\n",
        "    w, h = map(int, b[1].split('x'))\n",
        "    if check(x, y, w, h, field):\n",
        "        print(c)\n",
        "        print(i)\n",
        "        break\n",
        "    "
      ],
      "outputs": [
        {
          "output_type": "stream",
          "name": "stdout",
          "text": [
            "#658 @ 773,237: 16x27\n",
            "657\n"
          ]
        }
      ],
      "execution_count": 8,
      "metadata": {
        "collapsed": false,
        "outputHidden": false,
        "inputHidden": false
      }
    },
    {
      "cell_type": "code",
      "source": [],
      "outputs": [],
      "execution_count": 9,
      "metadata": {
        "collapsed": false,
        "outputHidden": false,
        "inputHidden": false
      }
    }
  ],
  "metadata": {
    "kernel_info": {
      "name": "python2"
    },
    "language_info": {
      "mimetype": "text/x-python",
      "nbconvert_exporter": "python",
      "name": "python",
      "pygments_lexer": "ipython2",
      "version": "2.7.15",
      "file_extension": ".py",
      "codemirror_mode": {
        "version": 2,
        "name": "ipython"
      }
    },
    "kernelspec": {
      "name": "python2",
      "language": "python",
      "display_name": "Python 2"
    },
    "nteract": {
      "version": "0.12.3"
    }
  },
  "nbformat": 4,
  "nbformat_minor": 4
}