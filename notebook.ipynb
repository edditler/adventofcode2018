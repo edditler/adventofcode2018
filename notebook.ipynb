{
  "cells": [
    {
      "cell_type": "code",
      "source": [
        "def read_input(fn):\n",
        "    with open(fn) as f:\n",
        "        lines = f.read().splitlines()\n",
        "    return lines"
      ],
      "outputs": [],
      "execution_count": 1,
      "metadata": {
        "collapsed": false,
        "outputHidden": false,
        "inputHidden": false
      }
    },
    {
      "cell_type": "markdown",
      "source": [
        "# Day 1"
      ],
      "metadata": {}
    },
    {
      "cell_type": "code",
      "source": [
        "# a\n",
        "s = 0\n",
        "for n in read_input('input1.txt'):\n",
        "    s += int(n)\n",
        "print(s)"
      ],
      "outputs": [
        {
          "output_type": "stream",
          "name": "stdout",
          "text": [
            "439\n"
          ]
        }
      ],
      "execution_count": 2,
      "metadata": {}
    },
    {
      "cell_type": "code",
      "source": [
        "#b \n",
        "s = 0\n",
        "found = []\n",
        "doit = True\n",
        "while doit:\n",
        "    for n in read_input('input1.txt'):\n",
        "        s += int(n)\n",
        "        if s in found:\n",
        "            print(s)\n",
        "            doit = False\n",
        "            break\n",
        "        found.append(s)\n",
        "    i += 1\n",
        "    print(i)"
      ],
      "outputs": [],
      "execution_count": null,
      "metadata": {
        "collapsed": false,
        "outputHidden": false,
        "inputHidden": false
      }
    },
    {
      "cell_type": "code",
      "source": [],
      "outputs": [],
      "execution_count": null,
      "metadata": {
        "collapsed": false,
        "outputHidden": false,
        "inputHidden": false
      }
    }
  ],
  "metadata": {
    "kernel_info": {
      "name": "python2"
    },
    "language_info": {
      "mimetype": "text/x-python",
      "nbconvert_exporter": "python",
      "name": "python",
      "pygments_lexer": "ipython2",
      "version": "2.7.15",
      "file_extension": ".py",
      "codemirror_mode": {
        "version": 2,
        "name": "ipython"
      }
    },
    "kernelspec": {
      "name": "python2",
      "language": "python",
      "display_name": "Python 2"
    },
    "nteract": {
      "version": "0.12.3"
    }
  },
  "nbformat": 4,
  "nbformat_minor": 4
}